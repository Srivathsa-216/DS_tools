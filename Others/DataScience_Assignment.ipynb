{
 "cells": [
  {
   "cell_type": "markdown",
   "id": "d71e6bab",
   "metadata": {},
   "source": [
    "# My Data Science Notebook\n"
   ]
  },
  {
   "cell_type": "markdown",
   "id": "0c9e67b9",
   "metadata": {},
   "source": [
    "## Introduction\n",
    "\n",
    "Welcome to my Data Science notebook! In this notebook, I will explore various concepts and techniques in the field of data science.\n"
   ]
  },
  {
   "cell_type": "markdown",
   "id": "10410684",
   "metadata": {},
   "source": [
    "## Data Science Languages\n",
    "\n",
    "- Python\n",
    "- R\n",
    "- SQL\n",
    "- Julia\n"
   ]
  },
  {
   "cell_type": "markdown",
   "id": "c171d43f",
   "metadata": {},
   "source": [
    "## Data Science Libraries\n",
    "\n",
    "- NumPy\n",
    "- Pandas\n",
    "- Matplotlib\n",
    "- Seaborn\n",
    "- Scikit-learn\n"
   ]
  },
  {
   "cell_type": "markdown",
   "id": "782eff04",
   "metadata": {},
   "source": [
    "## Data Science Tools\n",
    "\n",
    "| Tool        | Description                 |\n",
    "|-------------|-----------------------------|\n",
    "| Jupyter     | Interactive notebooks      |\n",
    "| TensorFlow  | Machine learning framework  |\n",
    "| Tableau     | Data visualization tool    |\n",
    "| Spark       | Big data processing engine |\n"
   ]
  },
  {
   "cell_type": "markdown",
   "id": "0abafd8a",
   "metadata": {},
   "source": [
    "## Arithmetic Expression Examples\n",
    "\n",
    "Let's explore some basic arithmetic operations using Python.\n"
   ]
  },
  {
   "cell_type": "code",
   "execution_count": 1,
   "id": "1a1f62ce",
   "metadata": {},
   "outputs": [
    {
     "data": {
      "text/plain": [
       "40"
      ]
     },
     "execution_count": 1,
     "metadata": {},
     "output_type": "execute_result"
    }
   ],
   "source": [
    "# Multiplication\n",
    "result_multiply = 5 * 8\n",
    "result_multiply\n"
   ]
  },
  {
   "cell_type": "code",
   "execution_count": 2,
   "id": "3d1786a8",
   "metadata": {},
   "outputs": [
    {
     "data": {
      "text/plain": [
       "25"
      ]
     },
     "execution_count": 2,
     "metadata": {},
     "output_type": "execute_result"
    }
   ],
   "source": [
    "# Addition\n",
    "result_addition = 10 + 15\n",
    "result_addition\n"
   ]
  },
  {
   "cell_type": "code",
   "execution_count": 3,
   "id": "188e8baa",
   "metadata": {},
   "outputs": [
    {
     "data": {
      "text/plain": [
       "2.0"
      ]
     },
     "execution_count": 3,
     "metadata": {},
     "output_type": "execute_result"
    }
   ],
   "source": [
    "# Convert minutes to hours\n",
    "minutes = 120\n",
    "hours = minutes / 60\n",
    "hours\n"
   ]
  },
  {
   "cell_type": "markdown",
   "id": "655fd17e",
   "metadata": {},
   "source": [
    "## Objectives\n",
    "\n",
    "1. Explore fundamental data science concepts.\n",
    "2. Practice using various data science tools.\n",
    "3. Understand and perform basic arithmetic operations in Python.\n"
   ]
  },
  {
   "cell_type": "markdown",
   "id": "64900bce",
   "metadata": {},
   "source": [
    "## Author\n",
    "\n",
    "- Adarsh srivathsa M S\n"
   ]
  }
 ],
 "metadata": {
  "kernelspec": {
   "display_name": "Python 3 (ipykernel)",
   "language": "python",
   "name": "python3"
  },
  "language_info": {
   "codemirror_mode": {
    "name": "ipython",
    "version": 3
   },
   "file_extension": ".py",
   "mimetype": "text/x-python",
   "name": "python",
   "nbconvert_exporter": "python",
   "pygments_lexer": "ipython3",
   "version": "3.11.1"
  }
 },
 "nbformat": 4,
 "nbformat_minor": 5
}
